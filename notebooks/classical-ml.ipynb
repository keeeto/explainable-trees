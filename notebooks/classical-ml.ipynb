{
 "cells": [
  {
   "cell_type": "code",
   "execution_count": 2,
   "metadata": {},
   "outputs": [],
   "source": [
    "import pandas as pd\n",
    "from sklearn import linear_model\n",
    "from sklearn import metrics\n",
    "import matplotlib.pyplot as plt\n",
    "import itertools\n",
    "import numpy as np\n",
    "import os\n",
    "os.environ['CUDA_VISIBLE_DEVICES'] = '-1'"
   ]
  },
  {
   "cell_type": "markdown",
   "metadata": {},
   "source": [
    "## Import the dataset\n",
    "\n",
    "**Add descriptions**"
   ]
  },
  {
   "cell_type": "code",
   "execution_count": 3,
   "metadata": {},
   "outputs": [],
   "source": [
    "oxides = pd.read_pickle('../data/training_data.pickle')"
   ]
  },
  {
   "cell_type": "markdown",
   "metadata": {},
   "source": [
    "## Get values from the dataset\n",
    "\n",
    "In order to use values in a Pandas dataframe you need to get the values in a list.\n",
    "This is realtively easy once you know the labels of the columns in the dataframe.\n",
    "Here, we can look at the column names using \n",
    "```\n",
    "list(df.columns)\n",
    "```\n",
    "where `df` is the dataframe name.\n",
    "\n",
    "We have a lot of columns! The value that we are trying to learn is `gllbsc_gap`. The rest of the columns are potential descriptors for our ML model. To feed these to a ML model we extract the values from the columns of interest. "
   ]
  },
  {
   "cell_type": "code",
   "execution_count": 3,
   "metadata": {},
   "outputs": [
    {
     "data": {
      "text/plain": [
       "['gllbsc_gap',\n",
       " '0-norm',\n",
       " '2-norm',\n",
       " '3-norm',\n",
       " '5-norm',\n",
       " '7-norm',\n",
       " '10-norm',\n",
       " 'MagpieData minimum Number',\n",
       " 'MagpieData maximum Number',\n",
       " 'MagpieData range Number',\n",
       " 'MagpieData mean Number',\n",
       " 'MagpieData avg_dev Number',\n",
       " 'MagpieData mode Number',\n",
       " 'MagpieData minimum MendeleevNumber',\n",
       " 'MagpieData maximum MendeleevNumber',\n",
       " 'MagpieData range MendeleevNumber',\n",
       " 'MagpieData mean MendeleevNumber',\n",
       " 'MagpieData avg_dev MendeleevNumber',\n",
       " 'MagpieData mode MendeleevNumber',\n",
       " 'MagpieData minimum AtomicWeight',\n",
       " 'MagpieData maximum AtomicWeight',\n",
       " 'MagpieData range AtomicWeight',\n",
       " 'MagpieData mean AtomicWeight',\n",
       " 'MagpieData avg_dev AtomicWeight',\n",
       " 'MagpieData mode AtomicWeight',\n",
       " 'MagpieData minimum MeltingT',\n",
       " 'MagpieData maximum MeltingT',\n",
       " 'MagpieData range MeltingT',\n",
       " 'MagpieData mean MeltingT',\n",
       " 'MagpieData avg_dev MeltingT',\n",
       " 'MagpieData mode MeltingT',\n",
       " 'MagpieData minimum Column',\n",
       " 'MagpieData maximum Column',\n",
       " 'MagpieData range Column',\n",
       " 'MagpieData mean Column',\n",
       " 'MagpieData avg_dev Column',\n",
       " 'MagpieData mode Column',\n",
       " 'MagpieData minimum Row',\n",
       " 'MagpieData maximum Row',\n",
       " 'MagpieData range Row',\n",
       " 'MagpieData mean Row',\n",
       " 'MagpieData avg_dev Row',\n",
       " 'MagpieData mode Row',\n",
       " 'MagpieData minimum CovalentRadius',\n",
       " 'MagpieData maximum CovalentRadius',\n",
       " 'MagpieData range CovalentRadius',\n",
       " 'MagpieData mean CovalentRadius',\n",
       " 'MagpieData avg_dev CovalentRadius',\n",
       " 'MagpieData mode CovalentRadius',\n",
       " 'MagpieData minimum Electronegativity',\n",
       " 'MagpieData maximum Electronegativity',\n",
       " 'MagpieData range Electronegativity',\n",
       " 'MagpieData mean Electronegativity',\n",
       " 'MagpieData avg_dev Electronegativity',\n",
       " 'MagpieData mode Electronegativity',\n",
       " 'MagpieData minimum NsValence',\n",
       " 'MagpieData maximum NsValence',\n",
       " 'MagpieData range NsValence',\n",
       " 'MagpieData mean NsValence',\n",
       " 'MagpieData avg_dev NsValence',\n",
       " 'MagpieData mode NsValence',\n",
       " 'MagpieData minimum NpValence',\n",
       " 'MagpieData maximum NpValence',\n",
       " 'MagpieData range NpValence',\n",
       " 'MagpieData mean NpValence',\n",
       " 'MagpieData avg_dev NpValence',\n",
       " 'MagpieData mode NpValence',\n",
       " 'MagpieData minimum NdValence',\n",
       " 'MagpieData maximum NdValence',\n",
       " 'MagpieData range NdValence',\n",
       " 'MagpieData mean NdValence',\n",
       " 'MagpieData avg_dev NdValence',\n",
       " 'MagpieData mode NdValence',\n",
       " 'MagpieData minimum NfValence',\n",
       " 'MagpieData maximum NfValence',\n",
       " 'MagpieData range NfValence',\n",
       " 'MagpieData mean NfValence',\n",
       " 'MagpieData avg_dev NfValence',\n",
       " 'MagpieData mode NfValence',\n",
       " 'MagpieData minimum NValence',\n",
       " 'MagpieData maximum NValence',\n",
       " 'MagpieData range NValence',\n",
       " 'MagpieData mean NValence',\n",
       " 'MagpieData avg_dev NValence',\n",
       " 'MagpieData mode NValence',\n",
       " 'MagpieData minimum NsUnfilled',\n",
       " 'MagpieData maximum NsUnfilled',\n",
       " 'MagpieData range NsUnfilled',\n",
       " 'MagpieData mean NsUnfilled',\n",
       " 'MagpieData avg_dev NsUnfilled',\n",
       " 'MagpieData mode NsUnfilled',\n",
       " 'MagpieData minimum NpUnfilled',\n",
       " 'MagpieData maximum NpUnfilled',\n",
       " 'MagpieData range NpUnfilled',\n",
       " 'MagpieData mean NpUnfilled',\n",
       " 'MagpieData avg_dev NpUnfilled',\n",
       " 'MagpieData mode NpUnfilled',\n",
       " 'MagpieData minimum NdUnfilled',\n",
       " 'MagpieData maximum NdUnfilled',\n",
       " 'MagpieData range NdUnfilled',\n",
       " 'MagpieData mean NdUnfilled',\n",
       " 'MagpieData avg_dev NdUnfilled',\n",
       " 'MagpieData mode NdUnfilled',\n",
       " 'MagpieData minimum NfUnfilled',\n",
       " 'MagpieData maximum NfUnfilled',\n",
       " 'MagpieData range NfUnfilled',\n",
       " 'MagpieData mean NfUnfilled',\n",
       " 'MagpieData avg_dev NfUnfilled',\n",
       " 'MagpieData mode NfUnfilled',\n",
       " 'MagpieData minimum NUnfilled',\n",
       " 'MagpieData maximum NUnfilled',\n",
       " 'MagpieData range NUnfilled',\n",
       " 'MagpieData mean NUnfilled',\n",
       " 'MagpieData avg_dev NUnfilled',\n",
       " 'MagpieData mode NUnfilled',\n",
       " 'MagpieData minimum GSvolume_pa',\n",
       " 'MagpieData maximum GSvolume_pa',\n",
       " 'MagpieData range GSvolume_pa',\n",
       " 'MagpieData mean GSvolume_pa',\n",
       " 'MagpieData avg_dev GSvolume_pa',\n",
       " 'MagpieData mode GSvolume_pa',\n",
       " 'MagpieData minimum GSbandgap',\n",
       " 'MagpieData maximum GSbandgap',\n",
       " 'MagpieData range GSbandgap',\n",
       " 'MagpieData mean GSbandgap',\n",
       " 'MagpieData avg_dev GSbandgap',\n",
       " 'MagpieData mode GSbandgap',\n",
       " 'MagpieData minimum GSmagmom',\n",
       " 'MagpieData maximum GSmagmom',\n",
       " 'MagpieData range GSmagmom',\n",
       " 'MagpieData mean GSmagmom',\n",
       " 'MagpieData avg_dev GSmagmom',\n",
       " 'MagpieData mode GSmagmom',\n",
       " 'MagpieData minimum SpaceGroupNumber',\n",
       " 'MagpieData maximum SpaceGroupNumber',\n",
       " 'MagpieData range SpaceGroupNumber',\n",
       " 'MagpieData mean SpaceGroupNumber',\n",
       " 'MagpieData avg_dev SpaceGroupNumber',\n",
       " 'MagpieData mode SpaceGroupNumber',\n",
       " 'avg p valence electrons',\n",
       " 'avg d valence electrons',\n",
       " 'avg f valence electrons',\n",
       " 'compound possible',\n",
       " 'max ionic char',\n",
       " 'avg ionic char',\n",
       " 'band center',\n",
       " 'HOMO_energy',\n",
       " 'LUMO_energy',\n",
       " 'gap_AO']"
      ]
     },
     "execution_count": 3,
     "metadata": {},
     "output_type": "execute_result"
    }
   ],
   "source": [
    "list(oxides.columns)"
   ]
  },
  {
   "cell_type": "markdown",
   "metadata": {},
   "source": [
    "## Set up the data for a linear regression\n",
    "\n",
    "We want to fit the model $y = f(x)$ where $y$ is `gllbsc_gap`, $x$ is one of the descriptors and $f()$ is the ML model.\n",
    "\n",
    "To convert a column of the data to input to the ML model we can use\n",
    "```\n",
    "x = df['column name'].values\n",
    "```\n",
    "\n",
    "Go and set up $y$ as the `gllbsc_gap` values. For the first model, try `MagpieData avg_dev Electronegativity` for the $x$ values.\n",
    "\n",
    "Additiobally, since this is a univariate regression and we have only one feature in $X$ we have to reshape the array. This is easy\n",
    "```\n",
    "X = X.reshape(-1, 1)\n",
    "```"
   ]
  },
  {
   "cell_type": "code",
   "execution_count": 4,
   "metadata": {},
   "outputs": [],
   "source": [
    "# Choose columns to train on\n",
    "y = oxides['gllbsc_gap'].values\n",
    "X = oxides['MagpieData avg_dev Electronegativity'].values\n",
    "X = X.reshape(-1, 1)"
   ]
  },
  {
   "cell_type": "markdown",
   "metadata": {},
   "source": [
    "## Set up and run the linear regression\n",
    "\n",
    "* We first set up the model type\n",
    "```\n",
    "regr = linear_model.LinearRegression()\n",
    "```\n",
    "* Then we fit X versus y\n",
    "```\n",
    "model = regr.fit(X, y)\n",
    "```\n",
    "* We can get the predicted values by running the model on the training set\n",
    "```\n",
    "y_pred = regr.predict(X)\n",
    "```\n",
    "* Examine the predicted versus true values on a scatter plot.\n",
    "* Calculate some performance metrics\n",
    "```\n",
    "metrics.mean_absolute_error(y, y_pred)\n",
    "metrics.mean_squared_error(y, y_pred)\n",
    "```"
   ]
  },
  {
   "cell_type": "code",
   "execution_count": 5,
   "metadata": {},
   "outputs": [],
   "source": [
    "regr = linear_model.LinearRegression()\n",
    "model = regr.fit(X, y)\n",
    "y_pred = regr.predict(X)"
   ]
  },
  {
   "cell_type": "code",
   "execution_count": 6,
   "metadata": {},
   "outputs": [
    {
     "data": {
      "text/plain": [
       "<matplotlib.collections.PathCollection at 0x7eff10281290>"
      ]
     },
     "execution_count": 6,
     "metadata": {},
     "output_type": "execute_result"
    },
    {
     "data": {
      "image/png": "[encoded data removed]",
      "text/plain": [
       "<Figure size 432x288 with 1 Axes>"
      ]
     },
     "metadata": {
      "needs_background": "light"
     },
     "output_type": "display_data"
    }
   ],
   "source": [
    "plt.scatter(y_pred, y)"
   ]
  },
  {
   "cell_type": "code",
   "execution_count": 7,
   "metadata": {},
   "outputs": [
    {
     "data": {
      "text/plain": [
       "1.8339785709985128"
      ]
     },
     "execution_count": 7,
     "metadata": {},
     "output_type": "execute_result"
    }
   ],
   "source": [
    "metrics.mean_absolute_error(y, y_pred)"
   ]
  },
  {
   "cell_type": "markdown",
   "metadata": {},
   "source": [
    "Not great performance! Go ahead an play with some other descriptors for the X value, see if you can improve on it.\n",
    "\n",
    "## Multi-variate regression\n",
    "\n",
    "The next obvious step is to throw more variables into the mix. In this case you use a list of column names to define $X$:\n",
    "```\n",
    "X = df[['column_a', 'column_b']].values\n",
    "```\n",
    "\n",
    "* Try `MagpieData avg_dev CovalentRadius` and `MagpieData avg_dev Electronegativity`"
   ]
  },
  {
   "cell_type": "code",
   "execution_count": 8,
   "metadata": {},
   "outputs": [],
   "source": [
    "X = oxides[['MagpieData avg_dev CovalentRadius', 'MagpieData avg_dev Electronegativity', 'MagpieData maximum NsValence']].values"
   ]
  },
  {
   "cell_type": "code",
   "execution_count": 9,
   "metadata": {},
   "outputs": [],
   "source": [
    "regr = linear_model.LinearRegression()\n",
    "model = regr.fit(X, y)\n",
    "y_pred = regr.predict(X)"
   ]
  },
  {
   "cell_type": "code",
   "execution_count": 10,
   "metadata": {},
   "outputs": [
    {
     "data": {
      "text/plain": [
       "<matplotlib.collections.PathCollection at 0x7eff101ae1d0>"
      ]
     },
     "execution_count": 10,
     "metadata": {},
     "output_type": "execute_result"
    },
    {
     "data": {
      "image/png": "[encoded data removed]",
      "text/plain": [
       "<Figure size 432x288 with 1 Axes>"
      ]
     },
     "metadata": {
      "needs_background": "light"
     },
     "output_type": "display_data"
    }
   ],
   "source": [
    "plt.scatter(y_pred, y)"
   ]
  },
  {
   "cell_type": "code",
   "execution_count": 11,
   "metadata": {},
   "outputs": [
    {
     "data": {
      "text/plain": [
       "1.7408377283845773"
      ]
     },
     "execution_count": 11,
     "metadata": {},
     "output_type": "execute_result"
    }
   ],
   "source": [
    "metrics.mean_absolute_error(y, y_pred)"
   ]
  },
  {
   "cell_type": "markdown",
   "metadata": {},
   "source": [
    "### Lets try some combinatorics on descriptors\n",
    "\n",
    "We can use `itertools` to build all possible combinations of three descriptors. The syntax for building a list of combinations is \n",
    "```\n",
    "l = list(itertools.combinations(original_list, size_of_combo))\n",
    "```\n",
    "where `size_of_combo` is the number of elements per combination. [Web page for combinations](https://docs.python.org/2/library/itertools.html#itertools.combinations)\n",
    "\n",
    "When you have build this list try fitting models on a selected sample of the combinations. **Note** do not try to fit to all combinations - there are too many for a short session. Perhaps choose the first 10 or 20 from the list.\n",
    "\n",
    "Get the `mean_absolute_error` of each model and then take the model with the lowest $MAE$. Plot it, how does it look? There should be improvement with more features."
   ]
  },
  {
   "cell_type": "code",
   "execution_count": null,
   "metadata": {},
   "outputs": [],
   "source": [
    "cols = [a for a in list(oxides.columns) if a not in ['gllbsc_gap']]\n",
    "pairs = list(itertools.combinations(cols, 4))"
   ]
  },
  {
   "cell_type": "code",
   "execution_count": null,
   "metadata": {},
   "outputs": [],
   "source": [
    "loss = []\n",
    "for p in pairs[:20]:\n",
    "    X = oxides[list(p)].values\n",
    "    model = regr.fit(X, y)\n",
    "    y_pred = regr.predict(X)\n",
    "    loss.append(metrics.mean_absolute_error(y, y_pred))"
   ]
  },
  {
   "cell_type": "code",
   "execution_count": null,
   "metadata": {},
   "outputs": [],
   "source": [
    "print('Minimum loss: {} for combination: {}'.format(min(loss), list(pairs[np.argmin(loss)])))"
   ]
  },
  {
   "cell_type": "code",
   "execution_count": null,
   "metadata": {},
   "outputs": [],
   "source": [
    "plt.scatter(y_pred, y)"
   ]
  },
  {
   "cell_type": "markdown",
   "metadata": {},
   "source": [
    "### Validation\n",
    "\n",
    "As we add more parameters we increase the danger of overfitting. So we need to keep some of out data for validation. We can use the `scikit-learn` function `train_test_split` to split up our data set.\n",
    "```\n",
    "X_train, X_test, y_train, y_test = train_test_split(X, y, test_size=0.4)\n",
    "```\n",
    "Then train the model on the training set and predict on the test set. Compare the $MAE$ of training and test. In general the test loss will be worse than the training loss, due to some degree of overfitting."
   ]
  },
  {
   "cell_type": "code",
   "execution_count": 12,
   "metadata": {},
   "outputs": [
    {
     "name": "stdout",
     "output_type": "stream",
     "text": [
      "Training loss 1.7239847504357213, test loss 1.812473804652958\n"
     ]
    }
   ],
   "source": [
    "from sklearn.model_selection import train_test_split\n",
    "X_train, X_test, y_train, y_test = train_test_split(X, y, test_size=0.2, random_state=300)\n",
    "model = regr.fit(X_train, y_train)\n",
    "y_pred = model.predict(X_train)\n",
    "mae_tr = metrics.mean_absolute_error(y_train, y_pred)\n",
    "y_pred = model.predict(X_test)\n",
    "mae_te = metrics.mean_absolute_error(y_test, y_pred)\n",
    "print('Training loss {}, test loss {}'.format(mae_tr, mae_te))"
   ]
  },
  {
   "cell_type": "markdown",
   "metadata": {},
   "source": [
    "### Cross validation\n",
    "\n",
    "By partitioning the available data into three sets, we drastically reduce the number of samples which can be used for learning the model, and the results can depend on a particular random choice for the pair of (train, validation) sets.\n",
    "\n",
    "A solution to this problem is a procedure called cross-validation (CV for short). A test set should still be held out for final evaluation, but the validation set is no longer needed when doing CV. In the basic approach, called k-fold CV, the training set is split into k smaller sets (other approaches are described below, but generally follow the same principles). The following procedure is followed for each of the k “folds”:\n",
    "\n",
    "* A model is trained using $(k-1)$ of the folds as training data;\n",
    "* the resulting model is validated on the remaining part of the data (i.e., it is used as a test set to compute a performance measure such as accuracy).\n",
    "\n",
    "The performance measure reported by k-fold cross-validation is then the average of the values computed in the loop. This approach can be computationally expensive, but does not waste too much data (as is the case when fixing an arbitrary validation set), which is a major advantage in problems such as inverse inference where the number of samples is very small.\n",
    "\n",
    "This is easily implemented in `scikit-learn` using the `cross_val_score` function.\n",
    "```\n",
    "scores = cross_val_score(model, X, y, cv=k, scoring='method')\n",
    "```\n",
    "`k` is the order of the cross-validation, 5 will work here. `method` is the metric to use, we use `neg_mean_absolute_error`. Run the cross validation and get the mean of `scores`."
   ]
  },
  {
   "cell_type": "code",
   "execution_count": 13,
   "metadata": {},
   "outputs": [
    {
     "name": "stdout",
     "output_type": "stream",
     "text": [
      "Cross validation score 1.7792806120099116\n"
     ]
    }
   ],
   "source": [
    "from sklearn.model_selection import cross_val_score\n",
    "scores = cross_val_score(regr, X, y, cv=5, scoring='neg_mean_absolute_error')\n",
    "print('Cross validation score {}'.format(-1 * np.mean(scores)))"
   ]
  },
  {
   "cell_type": "markdown",
   "metadata": {},
   "source": [
    "## More complex models\n",
    "\n",
    "So far we have been working with linear regression models. As you can see for multivariate linear regression there are a huge combination of models possible and serarching through all combinations quickly becomes infeasible. We will now use two of the model types that you learned about during the lectures. \n",
    "\n",
    "* A gradient boosted decision tree\n",
    "* A support vector machine\n",
    "\n",
    "### Gradient Boosting Regression\n",
    "\n",
    "Gradient bosting is a method for building an ensemble of weak learners to constitute a single strong learner. We build a series of decision tree models, each subsequent decision tree is built using information about the residuals (errors) from the previous models, in principle the model gets better and better each time you add a new decision tree.  \n",
    "\n",
    "The number of boosting steps to use is set by the `n_estimators` variable. Be aware though - simply adding more and more trees can lead you into overfitting. Gradient boosting is quite robust against overfitting, but we will have to look out for this!\n",
    "\n",
    "```\n",
    "gbr = ensemble.GradientBoostingRegressor(loss=<str>, max_depth = <int>, learning_rate = <float>,\n",
    "                                        min_samples_split = <int>, min_samples_leaf = <int>, \n",
    "                                        max_features = <int>, subsample = <float>, n_estimators = <int>)\n",
    "```\n",
    "\n",
    "The parameters we need to set:\n",
    "\n",
    "* loss: loss function to be optimized. We will use 'lad', which is basically $MAE$\n",
    "* max_depth:  The maximum depth limits the number of nodes in the tree. Tune this parameter for best performance; the best value depends on the interaction of the input variables. For now we will use 10, we will do some tuning later.\n",
    "* learning_rate:learning rate shrinks the contribution of each tree by learning_rate. There is a trade-off between learning_rate and n_estimators. We can tune this later, for now we use 0.015.\n",
    "* min_samples_split:The minimum number of samples required to split an internal node. We can tune this later, for now we use 50.\n",
    "* min_samples_leaf:The minimum number of samples required to be at a leaf node. We set this as 1.\n",
    "* max_features: The number of features to consider when looking for the best split. We will set this as the number of features that we have.\n",
    "* subsample: The fraction of samples to be used for fitting the individual trees. If smaller than 1.0 this results in Stochastic Gradient Boosting. We will use 0.9 for now, we can possibly tune this later.\n",
    "* n_estimators: The number of boosting steps to use. We will start by using 300.\n",
    "\n",
    "When you have defined the model, do the fitting\n",
    "```\n",
    "gbr.fit(X, y)\n",
    "```\n",
    "Then, using the cross validation methods from earlier do a 5 fold cross validation.\n",
    "\n",
    "Plot the predicted against the actual band gaps.\n",
    "\n",
    "Hopefully there is a big improvement over linear regression!"
   ]
  },
  {
   "cell_type": "code",
   "execution_count": 14,
   "metadata": {},
   "outputs": [
    {
     "data": {
      "text/plain": [
       "GradientBoostingRegressor(alpha=0.9, ccp_alpha=0.0, criterion='friedman_mse',\n",
       "                          init=None, learning_rate=0.015, loss='lad',\n",
       "                          max_depth=10, max_features=148, max_leaf_nodes=None,\n",
       "                          min_impurity_decrease=0.0, min_impurity_split=None,\n",
       "                          min_samples_leaf=1, min_samples_split=50,\n",
       "                          min_weight_fraction_leaf=0.0, n_estimators=300,\n",
       "                          n_iter_no_change=None, presort='deprecated',\n",
       "                          random_state=None, subsample=0.9, tol=0.0001,\n",
       "                          validation_fraction=0.1, verbose=0, warm_start=False)"
      ]
     },
     "execution_count": 14,
     "metadata": {},
     "output_type": "execute_result"
    }
   ],
   "source": [
    "from sklearn import ensemble\n",
    "\n",
    "cols = [a for a in list(oxides.columns) if a not in ['gllbsc_gap']]\n",
    "X = oxides[cols].values\n",
    "\n",
    "# Define the model hyperparameters and fit the model\n",
    "gbr = ensemble.GradientBoostingRegressor(loss='lad', max_depth = 10, learning_rate = 0.015,\n",
    "                                        min_samples_split = 50, min_samples_leaf = 1, \n",
    "                                        max_features = len(cols), subsample = 0.9, \n",
    "                                         n_estimators = 300)\n",
    "gbr.fit(X, y)"
   ]
  },
  {
   "cell_type": "code",
   "execution_count": 15,
   "metadata": {},
   "outputs": [
    {
     "name": "stdout",
     "output_type": "stream",
     "text": [
      "Cross validation score 0.931463077920119\n"
     ]
    }
   ],
   "source": [
    "scores = cross_val_score(gbr, X, y, cv=5, scoring='neg_mean_absolute_error')\n",
    "print('Cross validation score {}'.format(-1 * np.mean(scores)))"
   ]
  },
  {
   "cell_type": "code",
   "execution_count": 16,
   "metadata": {},
   "outputs": [
    {
     "data": {
      "text/plain": [
       "<matplotlib.collections.PathCollection at 0x7eff0816bd50>"
      ]
     },
     "execution_count": 16,
     "metadata": {},
     "output_type": "execute_result"
    },
    {
     "data": {
      "image/png": "[encoded data removed]",
      "text/plain": [
       "<Figure size 432x288 with 1 Axes>"
      ]
     },
     "metadata": {
      "needs_background": "light"
     },
     "output_type": "display_data"
    }
   ],
   "source": [
    "y_pred = gbr.predict(X)\n",
    "plt.scatter(y_pred, y)"
   ]
  },
  {
   "cell_type": "markdown",
   "metadata": {},
   "source": [
    "### Look out for the boosting rate and  overfitting\n",
    "\n",
    "Let's split the data 80:20 into training and test. Re-fit the `gbr` model using the training data only.\n",
    "\n",
    "We can then use some built in methods of the gradient boosted regressorr to get training and test scores at each iteration of boosting. So we can check if we have enough boosting layers or perhaps we have too many and we are over-fitting.\n",
    "\n",
    "\n",
    "The performance of the training data at each step is obtained from\n",
    "```\n",
    "gbr.train_score_\n",
    "```\n",
    "Getting the score on the test data is a little more complex, but not much!\n",
    "```\n",
    "test_score = np.zeros((300,), dtype=np.float64)\n",
    "for i, y_pred in enumerate(gbr.staged_predict(X_test)):\n",
    "    test_score[i] = gbr.loss_(y_test, y_pred)\n",
    "```\n",
    "Here we have built an array called `test_score` to store the loss values\n",
    "\n",
    "You can now plot the training and test scores on the same plot."
   ]
  },
  {
   "cell_type": "code",
   "execution_count": 18,
   "metadata": {},
   "outputs": [
    {
     "data": {
      "text/plain": [
       "[<matplotlib.lines.Line2D at 0x7eff08039250>]"
      ]
     },
     "execution_count": 18,
     "metadata": {},
     "output_type": "execute_result"
    },
    {
     "data": {
      "image/png": "[encoded data removed]",
      "text/plain": [
       "<Figure size 432x288 with 1 Axes>"
      ]
     },
     "metadata": {
      "needs_background": "light"
     },
     "output_type": "display_data"
    }
   ],
   "source": [
    "X_train, X_test, y_train, y_test = train_test_split(X, y, test_size=0.2)\n",
    "gbr.fit(X_train, y_train)\n",
    "\n",
    "test_score = np.zeros((300,), dtype=np.float64)\n",
    "for i, y_pred in enumerate(gbr.staged_predict(X_test)):\n",
    "    test_score[i] = gbr.loss_(y_test, y_pred)\n",
    "plt.plot( gbr.train_score_)\n",
    "plt.plot(test_score)"
   ]
  },
  {
   "cell_type": "markdown",
   "metadata": {},
   "source": [
    "### Extend the bosting\n",
    "\n",
    "Maybe you noticed that the loss of both training and test are still decreasing at 300 steps. We can try to extend the numbe rof boosting steps and see if we still get improvement, try the same as above, but with `n_estimators` set to 500.\n",
    "\n",
    "If the test score stops increasing then we are probably in a good place to stop extending the model. Do a 5-fold cross validation at this point. How does the score compare to the earlier score?"
   ]
  },
  {
   "cell_type": "code",
   "execution_count": 19,
   "metadata": {},
   "outputs": [
    {
     "data": {
      "text/plain": [
       "[<matplotlib.lines.Line2D at 0x7efecc77c390>]"
      ]
     },
     "execution_count": 19,
     "metadata": {},
     "output_type": "execute_result"
    },
    {
     "data": {
      "image/png": "[encoded data removed]",
      "text/plain": [
       "<Figure size 432x288 with 1 Axes>"
      ]
     },
     "metadata": {
      "needs_background": "light"
     },
     "output_type": "display_data"
    }
   ],
   "source": [
    "# Define the model hyperparameters and fit the model\n",
    "gbr1 = ensemble.GradientBoostingRegressor(loss='lad', max_depth = 10, learning_rate = 0.015,\n",
    "                                        min_samples_split = 50, min_samples_leaf = 1, \n",
    "                                        max_features = len(cols), subsample = 0.9, \n",
    "                                         n_estimators = 500)\n",
    "gbr1.fit(X_train, y_train)\n",
    "\n",
    "test_score = np.zeros((500,), dtype=np.float64)\n",
    "for i, y_pred in enumerate(gbr1.staged_predict(X_test)):\n",
    "    test_score[i] = gbr1.loss_(y_test, y_pred)\n",
    "plt.plot( gbr1.train_score_)\n",
    "plt.plot(test_score)"
   ]
  },
  {
   "cell_type": "code",
   "execution_count": 20,
   "metadata": {},
   "outputs": [
    {
     "name": "stdout",
     "output_type": "stream",
     "text": [
      "Cross validation score 0.9199637427938476\n"
     ]
    }
   ],
   "source": [
    "scores = cross_val_score(gbr1, X, y, cv=5, scoring='neg_mean_absolute_error')\n",
    "print('Cross validation score {}'.format(-1 * np.mean(scores)))"
   ]
  },
  {
   "cell_type": "markdown",
   "metadata": {},
   "source": [
    "### Systematic hyperparameter tuning\n",
    "\n",
    "Obvioulsy there are a lot of hyperparameters and tuning by hand will take a lot of effort. Luckily `scikit-learn` has a function `GridSearchCV` that allows us to set up systematic searches of hyperparameter space.\n",
    "\n",
    "Performing a gridserach of all of the parameters at once would again lead to a combinatorial explosion. A general strategy for tuning hyperparameters in gradient boosted trees [has been suggested](https://www.analyticsvidhya.com/blog/2016/02/complete-guide-parameter-tuning-gradient-boosting-gbm-python/) \n",
    "\n",
    "\n",
    "   * Choose a relatively high learning rate. Generally the default value of 0.1 works but somewhere between 0.05 to 0.2 should work for different problems\n",
    "   * Determine the optimum number of trees for this learning rate. This should range around 40 - 90. Remember to choose a value on which your system can work fairly fast. This is because it will be used for testing various scenarios and determining the tree parameters.\n",
    "   * Tune tree-specific parameters for decided learning rate and number of trees. Note that we can choose different parameters to define a tree and I’ll take up an example here.\n",
    "   * Lower the learning rate and increase the estimators proportionally to get more robust models.\n",
    "   \n",
    "Try this out using [`GridSearchCV`](https://scikit-learn.org/stable/modules/generated/sklearn.model_selection.GridSearchCV.html).\n",
    "\n",
    "Setting up `GridSearchCV`\n",
    "\n",
    "* set up the parameters we want to search over in a dictionary.\n",
    "* set up the model with the remaining parameters that you do no want to vary\n",
    "* define the grid search object\n",
    "* fit \n",
    "\n",
    "\n",
    "```\n",
    "from sklearn.model_selection import GridSearchCV\n",
    "search_params = {<param_1>:[values], <param_2>:[values]....}\n",
    "gbr = ensemble.GradientBoostingRegressor(<params>)\n",
    "gsearch = GridSearchCV(estimator = gbr, param_grid = search_params, \n",
    "                      scoring = 'neg_median_absolute_error', cv=5)\n",
    "gsearch.fit(X, y)\n",
    "```\n",
    " \n",
    "* `<param_n>` string, the names of the parameters that you want to vary\n",
    "* `[values]` a list of the values that you want to use in the grid search\n",
    "* `<params>` strings and values, the remaining parameters of the grid search, these stay fixed\n",
    "\n",
    "### Optimise `n_estimators`\n",
    "\n",
    "Try a range of 125 - 220 in steps of 10."
   ]
  },
  {
   "cell_type": "code",
   "execution_count": 21,
   "metadata": {},
   "outputs": [
    {
     "name": "stderr",
     "output_type": "stream",
     "text": [
      "/home/mts87985/src/anaconda3/envs/tf2/lib/python3.7/site-packages/sklearn/model_selection/_search.py:823: FutureWarning: The parameter 'iid' is deprecated in 0.22 and will be removed in 0.24.\n",
      "  \"removed in 0.24.\", FutureWarning\n"
     ]
    },
    {
     "data": {
      "text/plain": [
       "GridSearchCV(cv=5, error_score=nan,\n",
       "             estimator=GradientBoostingRegressor(alpha=0.9, ccp_alpha=0.0,\n",
       "                                                 criterion='friedman_mse',\n",
       "                                                 init=None, learning_rate=0.1,\n",
       "                                                 loss='lad', max_depth=10,\n",
       "                                                 max_features=148,\n",
       "                                                 max_leaf_nodes=None,\n",
       "                                                 min_impurity_decrease=0.0,\n",
       "                                                 min_impurity_split=None,\n",
       "                                                 min_samples_leaf=1,\n",
       "                                                 min_samples_split=50,\n",
       "                                                 min_weight_fraction_leaf=0.0,\n",
       "                                                 n_estimators=100,\n",
       "                                                 n_iter_no_change=None,\n",
       "                                                 presort='deprecated',\n",
       "                                                 random_state=None,\n",
       "                                                 subsample=0.9, tol=0.0001,\n",
       "                                                 validation_fraction=0.1,\n",
       "                                                 verbose=0, warm_start=False),\n",
       "             iid=False, n_jobs=None,\n",
       "             param_grid={'n_estimators': range(125, 220, 10)},\n",
       "             pre_dispatch='2*n_jobs', refit=True, return_train_score=False,\n",
       "             scoring='neg_median_absolute_error', verbose=0)"
      ]
     },
     "execution_count": 21,
     "metadata": {},
     "output_type": "execute_result"
    }
   ],
   "source": [
    "from sklearn.model_selection import GridSearchCV\n",
    "param_test1 = {'n_estimators':range(125, 220, 10)}\n",
    "gbr1 = ensemble.GradientBoostingRegressor(loss='lad',learning_rate=0.1, \n",
    "                                  max_features=len(cols), max_depth = 10,\n",
    "                                  min_samples_split = 50,\n",
    "                                  subsample=0.9)\n",
    "gsearch = GridSearchCV(estimator= gbr1, param_grid = param_test1, \n",
    "                       scoring='neg_median_absolute_error',\n",
    "                       iid=False, cv=5)\n",
    "gsearch.fit(X, y)"
   ]
  },
  {
   "cell_type": "code",
   "execution_count": 22,
   "metadata": {},
   "outputs": [
    {
     "data": {
      "text/plain": [
       "{'n_estimators': 205}"
      ]
     },
     "execution_count": 22,
     "metadata": {},
     "output_type": "execute_result"
    }
   ],
   "source": [
    "gsearch.best_params_"
   ]
  },
  {
   "cell_type": "markdown",
   "metadata": {},
   "source": [
    "### Optimise tree parameters\n",
    "\n",
    "Try varying `max_depth` between 5 - 16 in steps of 2, and `min_samples_split` between 20 and 1000 in steps of 200."
   ]
  },
  {
   "cell_type": "code",
   "execution_count": 23,
   "metadata": {},
   "outputs": [
    {
     "name": "stderr",
     "output_type": "stream",
     "text": [
      "/home/mts87985/src/anaconda3/envs/tf2/lib/python3.7/site-packages/sklearn/model_selection/_search.py:823: FutureWarning: The parameter 'iid' is deprecated in 0.22 and will be removed in 0.24.\n",
      "  \"removed in 0.24.\", FutureWarning\n"
     ]
    },
    {
     "data": {
      "text/plain": [
       "GridSearchCV(cv=5, error_score=nan,\n",
       "             estimator=GradientBoostingRegressor(alpha=0.9, ccp_alpha=0.0,\n",
       "                                                 criterion='friedman_mse',\n",
       "                                                 init=None, learning_rate=0.1,\n",
       "                                                 loss='lad', max_depth=3,\n",
       "                                                 max_features=148,\n",
       "                                                 max_leaf_nodes=None,\n",
       "                                                 min_impurity_decrease=0.0,\n",
       "                                                 min_impurity_split=None,\n",
       "                                                 min_samples_leaf=1,\n",
       "                                                 min_samples_split=2,\n",
       "                                                 min_weight_fraction_leaf=0.0,\n",
       "                                                 n_estimators=205,\n",
       "                                                 n_iter_no_change=None,\n",
       "                                                 presort='deprecated',\n",
       "                                                 random_state=None,\n",
       "                                                 subsample=0.9, tol=0.0001,\n",
       "                                                 validation_fraction=0.1,\n",
       "                                                 verbose=0, warm_start=False),\n",
       "             iid=False, n_jobs=None,\n",
       "             param_grid={'max_depth': range(5, 16, 2),\n",
       "                         'min_samples_split': range(20, 100, 200)},\n",
       "             pre_dispatch='2*n_jobs', refit=True, return_train_score=False,\n",
       "             scoring='neg_median_absolute_error', verbose=0)"
      ]
     },
     "execution_count": 23,
     "metadata": {},
     "output_type": "execute_result"
    }
   ],
   "source": [
    "param_test2 = {'max_depth':range(5, 16, 2), 'min_samples_split':range(20,100,200)}\n",
    "gbr2 = ensemble.GradientBoostingRegressor(loss='lad',learning_rate=0.1, \n",
    "                                 n_estimators=205, max_features=len(cols), \n",
    "                                 subsample=0.9)\n",
    "gsearch = GridSearchCV(estimator= gbr2, param_grid = param_test2, \n",
    "                       scoring='neg_median_absolute_error',\n",
    "                       iid=False, cv=5)\n",
    "gsearch.fit(X, y)\n"
   ]
  },
  {
   "cell_type": "code",
   "execution_count": null,
   "metadata": {},
   "outputs": [],
   "source": [
    "param_test2 = {'max_depth':range(15, 36, 2)}\n",
    "gbr2 = ensemble.GradientBoostingRegressor(loss='lad',learning_rate=0.1, \n",
    "                                 n_estimators=185, max_features=len(cols), \n",
    "                                 min_samples_split=20,\n",
    "                                 subsample=0.9)\n",
    "gsearch = GridSearchCV(estimator= gbr2, param_grid = param_test2, \n",
    "                       scoring='neg_median_absolute_error',\n",
    "                       iid=False, cv=5)\n",
    "gsearch.fit(X, y)"
   ]
  },
  {
   "cell_type": "code",
   "execution_count": 24,
   "metadata": {},
   "outputs": [
    {
     "name": "stdout",
     "output_type": "stream",
     "text": [
      "Acheived a top score of MAE = -0.674 eV using parameters: {'max_depth': 13, 'min_samples_split': 20}\n"
     ]
    }
   ],
   "source": [
    "print('Acheived a top score of MAE = {0:6.3f} eV using parameters: {1}'.format(gsearch.best_score_, gsearch.best_params_))"
   ]
  },
  {
   "cell_type": "code",
   "execution_count": 32,
   "metadata": {},
   "outputs": [
    {
     "data": {
      "text/plain": [
       "GradientBoostingRegressor(alpha=0.9, ccp_alpha=0.0, criterion='friedman_mse',\n",
       "                          init=None, learning_rate=0.1, loss='lad',\n",
       "                          max_depth=13, max_features=148, max_leaf_nodes=None,\n",
       "                          min_impurity_decrease=0.0, min_impurity_split=None,\n",
       "                          min_samples_leaf=1, min_samples_split=20,\n",
       "                          min_weight_fraction_leaf=0.0, n_estimators=205,\n",
       "                          n_iter_no_change=None, presort='deprecated',\n",
       "                          random_state=None, subsample=0.9, tol=0.0001,\n",
       "                          validation_fraction=0.1, verbose=0, warm_start=False)"
      ]
     },
     "execution_count": 32,
     "metadata": {},
     "output_type": "execute_result"
    }
   ],
   "source": [
    "gbr3.fit(X, y)"
   ]
  },
  {
   "cell_type": "code",
   "execution_count": 33,
   "metadata": {},
   "outputs": [
    {
     "name": "stdout",
     "output_type": "stream",
     "text": [
      "Cross validation score 0.8998802190759493\n"
     ]
    }
   ],
   "source": [
    "scores = cross_val_score(gbr3, X, y, cv=5, scoring='neg_mean_absolute_error')\n",
    "print('Cross validation score {}'.format(-1 * np.mean(scores)))"
   ]
  },
  {
   "cell_type": "markdown",
   "metadata": {},
   "source": [
    "## Save the model - we will use it later on."
   ]
  },
  {
   "cell_type": "code",
   "execution_count": 36,
   "metadata": {},
   "outputs": [],
   "source": [
    "import pickle\n",
    "filename = '../models/gb_tree_best.pkl'\n",
    "pickle.dump(gbr3, open(filename, 'wb'))"
   ]
  }
 ],
 "metadata": {
  "kernelspec": {
   "display_name": "Python 3",
   "language": "python",
   "name": "python3"
  },
  "language_info": {
   "codemirror_mode": {
    "name": "ipython",
    "version": 3
   },
   "file_extension": ".py",
   "mimetype": "text/x-python",
   "name": "python",
   "nbconvert_exporter": "python",
   "pygments_lexer": "ipython3",
   "version": "3.7.5"
  }
 },
 "nbformat": 4,
 "nbformat_minor": 2
}
